{
 "cells": [
  {
   "cell_type": "markdown",
   "metadata": {},
   "source": [
    "# Решения дифференциального уравнения Ван-дер-Поля методом Рунге-Кутта 4ого порядка"
   ]
  },
  {
   "cell_type": "markdown",
   "metadata": {},
   "source": [
    "### Замятина Екатерина 476 группа"
   ]
  },
  {
   "cell_type": "markdown",
   "metadata": {},
   "source": [
    "## Уравнение Ван-Дер-Поля"
   ]
  },
  {
   "cell_type": "markdown",
   "metadata": {},
   "source": [
    "Типичным  примером  жесткой  задачи  малой  размерности  является уравнение  Ван-дер-Поля.\n",
    "Это  уравнение  впервые  встретилось  в радиотехнике при описании электрических цепей. Его возможно записать в \n",
    "виде системы:\n",
    "$$ y_2 = y'_1 $$\n",
    "$$ y_2' = - a(y_2(y_1^2 - 1) + y_1) $$\n"
   ]
  },
  {
   "cell_type": "markdown",
   "metadata": {},
   "source": [
    " Считаем,  что  параметр a большой.  В  расчетах рассмотрим два случая: \n",
    "$$ a = 10^3 $$\n",
    "$$a = 10^6 $$\n",
    "Перепишем исходную систему как:\n",
    "$$y’_1=f_1(x, y_1, y_2) = y_2$$\n",
    "$$y’_2=f_2(x, y_1, y_2) = - a(y_2(y_1^2 - 1) + y_1)$$"
   ]
  },
  {
   "cell_type": "markdown",
   "metadata": {},
   "source": [
    "Получим приблизительное решение положив \"a\" очень большим:\n",
    "\n",
    "$$y’_1=f_1(x, y_1, y_2) = y_2$$\n",
    "$$0=f_2(x, y_1, y_2) = -(y_2(y_1^2 - 1) + y_1)$$"
   ]
  },
  {
   "cell_type": "code",
   "execution_count": null,
   "metadata": {
    "collapsed": false,
    "scrolled": true
   },
   "outputs": [],
   "source": [
    "y2 = np.array(list(np.arange(0.00001, 10, 0.00001)))\n",
    "plt.plot(y2,(-1 - (1+4*y2)**(0.5))/2/y2) \n",
    "plt.xlabel(r'$y_1$') #Метка по оси x в формате TeX\n",
    "plt.ylabel(r'$y_2$') #Метка по оси y в формате TeX\n",
    "plt.grid(True) #Сетка\\\n",
    "ax = plt.gca()\n",
    "ax.set_ylim([-10,10])\n",
    "plt.show() #Показать график\n"
   ]
  },
  {
   "cell_type": "code",
   "execution_count": 18,
   "metadata": {
    "collapsed": false
   },
   "outputs": [
    {
     "data": {
      "text/plain": [
       "array([ -0.00000000e+00,  -1.00000000e-06,  -2.00000000e-06, ...,\n",
       "         1.01010122e-01,   1.01010111e-01,   1.01010101e-01])"
      ]
     },
     "execution_count": 18,
     "metadata": {},
     "output_type": "execute_result"
    }
   ],
   "source": [
    "y1/(y1*y1 - 1)"
   ]
  },
  {
   "cell_type": "markdown",
   "metadata": {},
   "source": [
    "### Явный метод Рунге-Кутта"
   ]
  },
  {
   "cell_type": "markdown",
   "metadata": {},
   "source": [
    "Mы умеем вычислять функции f_1 и f_2 в любой точке, и нам известны значения $y_1 = 2, y_2 = 0$ в точке x_0. Тогда мы можем приближенно вычислить их значения в точке x1 = x0 + h, где h достаточно мало, методом Рунге-Кутта\n",
    "\n",
    "$$k_{11} = hf_1(x_0, y_1, y_2)$$\n",
    "\n",
    "$$k_{12} = hf_2(x_0, y_1, y_2)$$\n",
    "\n",
    "$$k_{21} = hf_1(x_0 + h/2, y1 + k_{11}/2, y_2 + k_{12}/2)$$\n",
    "\n",
    "$$k_{22} = hf_2(x_0 + h/2, y_1 + k_{11}/2, y_2 + k_{12}/2)$$\n",
    "\n",
    "$$k_{31} = hf_1(x_0 + h/2, y_1 + k_{21}/2, y_2 + k_{22}/2)$$\n",
    "\n",
    "$$k_{32} = hf_2(x_0 + h/2, y1 + k_{21}/2, y_2 + k_{22}/2)$$\n",
    "\n",
    "$$k_{41} = hf_1(x_0 + h, y_1 + k_{31}, y_2 + k_{32})$$\n",
    "\n",
    "$$k_{42} = hf_2(x_0 + h, y_1 + k_{31}, y2 + k_{32})$$\n",
    "\n",
    "$$x_{n+1} = x_n + h$$\n",
    "\n",
    "$$y_1(x_1) = y_{01} + (k_{11} + 2 k_{21} + 2 k_{31} + k_{41}) / 6$$\n",
    "\n",
    "$$y_2(x_1) = y_{02} + (k_{12} + 2 k_{22} + 2 k_{32} + k_{42}) / 6$$"
   ]
  },
  {
   "cell_type": "code",
   "execution_count": 31,
   "metadata": {
    "collapsed": true
   },
   "outputs": [],
   "source": [
    "import numpy as np\n",
    "import matplotlib.pyplot as plt"
   ]
  },
  {
   "cell_type": "code",
   "execution_count": 32,
   "metadata": {
    "collapsed": true
   },
   "outputs": [],
   "source": [
    "a = 1000"
   ]
  },
  {
   "cell_type": "code",
   "execution_count": 33,
   "metadata": {
    "collapsed": true
   },
   "outputs": [],
   "source": [
    "def f2(y1,y2):\n",
    "    return -a*(y2*(y1*y1 - 1) + y1)"
   ]
  },
  {
   "cell_type": "code",
   "execution_count": 34,
   "metadata": {
    "collapsed": true
   },
   "outputs": [],
   "source": [
    "def f1(y1,y2):\n",
    "    return y2"
   ]
  },
  {
   "cell_type": "code",
   "execution_count": 35,
   "metadata": {
    "collapsed": false
   },
   "outputs": [],
   "source": [
    "def method(length, h, y1, y2):\n",
    "    final_y1 = np.array([y1])\n",
    "    final_y2 = np.array([y2])\n",
    "    n = int(length/h) - 1\n",
    "    for i in range(n):\n",
    "        k11 = h*f1(y1, y2)\n",
    "        k12 = h*f2(y1, y2)\n",
    "        k21 = h*f1(y1 + k11*0.5, y2 + k12*0.5)\n",
    "        k22 = h*f2(y1 + k11*0.5, y2 + k12*0.5)\n",
    "        k31 = h*f1(y1 + k21*0.5, y2 + k22*0.5)\n",
    "        k32 = h*f2(y1 + k21*0.5, y2 + k22*0.5)\n",
    "        k41 = h*f1(y1 + k31, y2 + k32)\n",
    "        k42 = h*f2(y1 + k31, y2 + k32)\n",
    "        y1 = y1 + (k11 + 2*k21 + 2*k31 + k41) / 6.0\n",
    "        y2 = y2 + (k12 + 2*k22 + 2*k32 + k42) / 6.0\n",
    "        final_y1 = np.append(final_y1, y1)\n",
    "        final_y2 = np.append(final_y2, y2)\n",
    "    return final_y1, final_y2"
   ]
  },
  {
   "cell_type": "code",
   "execution_count": 50,
   "metadata": {
    "collapsed": false
   },
   "outputs": [],
   "source": [
    "y1, y2 = method(10.0, 0.0001, 2.0,0.0)"
   ]
  },
  {
   "cell_type": "markdown",
   "metadata": {},
   "source": [
    "### a = 100"
   ]
  },
  {
   "cell_type": "code",
   "execution_count": 79,
   "metadata": {
    "collapsed": false,
    "scrolled": true
   },
   "outputs": [
    {
     "data": {
      "image/png": "[encoded data removed]",
      "text/plain": [
       "<matplotlib.figure.Figure at 0x7efe980ab5d0>"
      ]
     },
     "metadata": {},
     "output_type": "display_data"
    }
   ],
   "source": [
    "x = np.arange(0, 10, 0.0001)\n",
    "plt.plot(x,y1) \n",
    "plt.xlabel(r'$x$') #Метка по оси x в формате TeX\n",
    "plt.ylabel(r'$y_1$') #Метка по оси y в формате TeX\n",
    "plt.title(r'$y_1$') #Заголовок в формате TeX\n",
    "plt.grid(True) #Сетка\n",
    "plt.show() #Показать график\n"
   ]
  },
  {
   "cell_type": "code",
   "execution_count": 80,
   "metadata": {
    "collapsed": false
   },
   "outputs": [
    {
     "name": "stdout",
     "output_type": "stream",
     "text": [
      "[ 0.         -0.01970297 -0.03882362 ..., -0.96204551 -0.96216531\n",
      " -0.96228515]\n"
     ]
    }
   ],
   "source": [
    "print y2"
   ]
  },
  {
   "cell_type": "markdown",
   "metadata": {
    "collapsed": true
   },
   "source": [
    "### a=1000"
   ]
  },
  {
   "cell_type": "code",
   "execution_count": 53,
   "metadata": {
    "collapsed": false
   },
   "outputs": [
    {
     "data": {
      "image/png": "[encoded data removed]",
      "text/plain": [
       "<matplotlib.figure.Figure at 0x7f3d14e96a50>"
      ]
     },
     "metadata": {},
     "output_type": "display_data"
    }
   ],
   "source": [
    "x = np.arange(0, 10, 0.0001)\n",
    "plt.plot(x,y1) \n",
    "plt.xlabel(r'$x$') #Метка по оси x в формате TeX\n",
    "plt.ylabel(r'$y_1$') #Метка по оси y в формате TeX\n",
    "plt.title(r'$y_1$') #Заголовок в формате TeX\n",
    "plt.grid(True) #Сетка\n",
    "plt.show() #Показать график\n",
    "plt.show() #Показать график"
   ]
  },
  {
   "cell_type": "markdown",
   "metadata": {
    "collapsed": true
   },
   "source": [
    "### a = 10000"
   ]
  },
  {
   "cell_type": "code",
   "execution_count": 49,
   "metadata": {
    "collapsed": true
   },
   "outputs": [],
   "source": [
    "a = 1000"
   ]
  },
  {
   "cell_type": "code",
   "execution_count": null,
   "metadata": {
    "collapsed": false,
    "scrolled": true
   },
   "outputs": [],
   "source": [
    "x = np.arange(0, 5, 0.00001)\n",
    "plt.plot(x,y1) \n",
    "plt.xlabel(r'$x$') #Метка по оси x в формате TeX\n",
    "plt.ylabel(r'$y_1$') #Метка по оси y в формате TeX\n",
    "plt.title(r'$y_1$') #Заголовок в формате TeX\n",
    "plt.grid(True) #Сетка\n",
    "plt.show() #Показать график"
   ]
  },
  {
   "cell_type": "markdown",
   "metadata": {
    "collapsed": true
   },
   "source": [
    "### Неявный метод Эйлера"
   ]
  },
  {
   "cell_type": "markdown",
   "metadata": {},
   "source": [
    "$$ \\frac{y_{2(k+1)} - y_{2k}}{h} = a*f_1(y_{2(k+1)}, y_{1(k+1)}) $$\n",
    "\n",
    "$$ \\frac{y_{1(k+1)} - y_{1k}}{h} = a*f_2(y_{2(k+1)}, y_{1(k+1)}) $$"
   ]
  },
  {
   "cell_type": "markdown",
   "metadata": {},
   "source": [
    "Эта система нелинейных уравнений может быть численно решена методом Ньютона.\n"
   ]
  },
  {
   "cell_type": "code",
   "execution_count": null,
   "metadata": {
    "collapsed": true
   },
   "outputs": [],
   "source": [
    "def method2(length, h, y1, y2):\n",
    "    final_y1 = np.array([y1])\n",
    "    final_y2 = np.array([y2])\n",
    "    n = int(length/h) - 1\n",
    "    for i in range(n):\n",
    "        y1 = y1 + h*f2()\n",
    "        y2 = y2 + h*f1()\n",
    "        final_y1 = np.append(final_y1, y1)\n",
    "        final_y2 = np.append(final_y2, y2)\n",
    "    return final_y1, final_y2"
   ]
  }
 ],
 "metadata": {
  "celltoolbar": "Raw Cell Format",
  "kernelspec": {
   "display_name": "Python 2",
   "language": "python",
   "name": "python2"
  },
  "language_info": {
   "codemirror_mode": {
    "name": "ipython",
    "version": 2
   },
   "file_extension": ".py",
   "mimetype": "text/x-python",
   "name": "python",
   "nbconvert_exporter": "python",
   "pygments_lexer": "ipython2",
   "version": "2.7.13"
  }
 },
 "nbformat": 4,
 "nbformat_minor": 2
}
