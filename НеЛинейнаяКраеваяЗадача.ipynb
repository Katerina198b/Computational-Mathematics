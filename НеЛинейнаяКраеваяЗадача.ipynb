{
 "cells": [
  {
   "cell_type": "markdown",
   "metadata": {},
   "source": [
    "Замятина Екатерина\n",
    "476 группа"
   ]
  },
  {
   "cell_type": "markdown",
   "metadata": {},
   "source": [
    "## Получите  численное  решение  следующих  нелинейных  краевых задач:"
   ]
  },
  {
   "cell_type": "markdown",
   "metadata": {},
   "source": [
    "$$ a)\\hspace{5mm} y^\" + p*x*\\cos(y) = 0, \\hspace{1cm} 0<x\\leq 1$$\n",
    "$$ y'(0)=0; \\hspace{5mm} y(1)=0, p=1,4,7,25,50,100 $$"
   ]
  },
  {
   "cell_type": "markdown",
   "metadata": {},
   "source": [
    "## Теоретическая часть"
   ]
  },
  {
   "cell_type": "markdown",
   "metadata": {},
   "source": [
    "Перемишем задачу в виде: $$ y\" = -p*x\\cos(y) = [x=1-x] = -p(1-x)\\cos(y) =  f(x,y)$$\n",
    "$$ y'(1)=0; \\hspace{5mm} y(0)=0, p=1,4,7,25,50,100 $$"
   ]
  },
  {
   "cell_type": "markdown",
   "metadata": {},
   "source": [
    "### Метод стрельбы"
   ]
  },
  {
   "cell_type": "markdown",
   "metadata": {},
   "source": [
    "Будем сводить решение краевой задачи к задачи Коши вида:\n",
    "\n",
    "$$ y\" = f(x,y) \\hspace{1cm} 0<x\\leq 1$$\n",
    "$$y(0) = 0;\\hspace{15mm} y'(0)=\\alpha$$\n",
    "При этом: $ \\hspace{8,5cm} y(x,\\alpha)|_{x=1}=y(1,\\alpha)= F(\\alpha) = 0$\n"
   ]
  },
  {
   "cell_type": "markdown",
   "metadata": {},
   "source": [
    "Как видно из строчки выше, для этого нам надо решить уравнение $F(\\alpha)=0$.\n",
    "\n",
    "Будем решать методом Ньютона."
   ]
  },
  {
   "cell_type": "markdown",
   "metadata": {},
   "source": [
    "Задаем $\\alpha_0 = 0$\n",
    "\n",
    "$\\alpha_{n+1} = \\alpha_n - \\dfrac{F(\\alpha_n)}{F'(\\alpha_n)} = \\alpha_n - \\dfrac{y(1,\\alpha_n)}{y'(1,\\alpha_n)}$"
   ]
  },
  {
   "cell_type": "markdown",
   "metadata": {},
   "source": [
    "Для нахождения y', y будем решать Задачу Коши выписанную выше (но все равно ее продублируем):"
   ]
  },
  {
   "cell_type": "markdown",
   "metadata": {},
   "source": [
    "$$\\begin{equation*}\n",
    " \\begin{cases}\n",
    "   y\"(x,\\alpha) = f(x,y)& x\\in[0,1]\\\\\n",
    "   y(0,\\alpha) = 0 & y'(0,\\alpha) = \\alpha\n",
    " \\end{cases}\n",
    "\\end{equation*}  \\hspace{5mm}(1)\n",
    "$$"
   ]
  },
  {
   "cell_type": "markdown",
   "metadata": {},
   "source": [
    "Продифференцируем уравнение по $\\alpha$:"
   ]
  },
  {
   "cell_type": "markdown",
   "metadata": {},
   "source": [
    "$$ \\frac{\\partial y^\"(x,\\alpha)}{\\partial \\alpha} = \\dfrac{\\partial f}{\\partial x} \\dfrac{\\partial x}{\\partial \\alpha} + \\dfrac{\\partial f}{\\partial y} \\dfrac{\\partial y}{\\partial \\alpha}$$"
   ]
  },
  {
   "cell_type": "markdown",
   "metadata": {},
   "source": [
    "Причем $\\dfrac{\\partial x}{\\partial \\alpha} = 0$, так как x не зависит от $\\alpha$."
   ]
  },
  {
   "cell_type": "markdown",
   "metadata": {},
   "source": [
    "Введем новую переменную:    $z(\\alpha, x) = \\dfrac{\\partial y}{\\partial \\alpha}$\n",
    "   Тогда начальные условия перепишутся в виде: $z(0,\\alpha) = 0 \\hspace{5mm} z'(0, \\alpha) = 1$  Получим:"
   ]
  },
  {
   "cell_type": "markdown",
   "metadata": {},
   "source": [
    "$$\\begin{equation*}\n",
    " \\begin{cases}\n",
    "  z^\"(x, \\alpha) = \\dfrac{\\partial f}{\\partial y} z(x,\\alpha)  & x\\in[0,1]\\\\\n",
    "   z(0,\\alpha) = 0 & z'(0,\\alpha) = 1 &\n",
    " \\end{cases}\n",
    "\\end{equation*} \\hspace{5mm} (2)\n",
    "$$"
   ]
  },
  {
   "cell_type": "markdown",
   "metadata": {},
   "source": [
    "\n",
    "$$\\alpha_{n+1} = \\alpha_n - \\dfrac{y(1,\\alpha_n)}{z(1,\\alpha_n)} \\hspace {1cm} \\alpha_0 = 0$$"
   ]
  },
  {
   "cell_type": "markdown",
   "metadata": {},
   "source": [
    "### Решение задачи Коши"
   ]
  },
  {
   "cell_type": "markdown",
   "metadata": {},
   "source": [
    "Перепишем задачу Коши (2) (1) для нашего уравнения:\n",
    "\n",
    "\\begin{equation}\n",
    " \\begin{cases}\n",
    "  z^\"(x, \\alpha) = p(1-x) \\sin(y)*z(x,\\alpha) & x\\in[0,1]\\\\\n",
    "   z(1,\\alpha) = 0 & z'(0,\\alpha) = 1 \\\\\n",
    "   \\\\\n",
    "   y^\"(x,\\alpha) = -p(1-x) \\cos(y)& x\\in[0,1]\\\\\n",
    "   y(1,\\alpha) = 0 & y'(1,\\alpha) = \\alpha\n",
    " \\end{cases}\n",
    "\\end{equation} \n"
   ]
  },
  {
   "cell_type": "markdown",
   "metadata": {},
   "source": [
    "Сведем получившиеся системы к системе первого порядка:\n",
    "\n",
    "\n",
    "\\begin{equation}\n",
    " \\begin{cases}\n",
    "  v'(x, \\alpha) = p(1 - x) \\sin(y)*z(x,\\alpha) & x\\in[0,1]\\\\\n",
    "   v(1,\\alpha) = 1 \\\\\n",
    "   \\\\\n",
    "   z'_x(x, \\alpha) = v(x, \\alpha) \\\\\n",
    "   z(1,\\alpha) = 0 \\\\\n",
    "   \\\\\n",
    "   u_x'(x,\\alpha) = -p(1 - x) \\cos(y)& x\\in[0,1]\\\\\n",
    "   u(1,\\alpha) = \\alpha \\\\\n",
    "   \\\\\n",
    "   y'_x(x, \\alpha)=u(x, \\alpha) \\\\\n",
    "   y(1,\\alpha) = 0 \\\\\n",
    " \\end{cases}\n",
    "\\end{equation}"
   ]
  },
  {
   "cell_type": "markdown",
   "metadata": {},
   "source": [
    "Систему  можно решить явным Методом Ругне Кутта второго порядка:\n",
    "\\begin{equation}\n",
    " \\begin{cases}\n",
    "  w(x)' = f(w,x)& x\\in (0,1]\\\\\n",
    "  w(0) = w_0\\\\\n",
    " \\end{cases}\n",
    "\\end{equation}\n",
    "\n",
    "\n",
    "$$w_{n+1} = w_n +h(b_1r_1 + b_2r_2) = w_n + hr_2$$\n",
    "\n",
    "\n",
    "$$r1=f(w_n,x_n)$$\n",
    "\n",
    "$$r2=f(w_n + \\frac{h}{2},w_n+ \\frac{h}{2}r_1)$$\n",
    "\n",
    "$$w = (v,z,u,y)^T \\hspace{1cm} w_0 =(1,0,\\alpha, 0)^T$$"
   ]
  },
  {
   "cell_type": "markdown",
   "metadata": {},
   "source": [
    "## Практическая часть"
   ]
  },
  {
   "cell_type": "markdown",
   "metadata": {},
   "source": [
    "### Решение Задачи Коши"
   ]
  },
  {
   "cell_type": "code",
   "execution_count": 2,
   "metadata": {
    "collapsed": true
   },
   "outputs": [],
   "source": [
    "import numpy as np"
   ]
  },
  {
   "cell_type": "code",
   "execution_count": 3,
   "metadata": {
    "collapsed": false
   },
   "outputs": [],
   "source": [
    "def f(x, w, p):\n",
    "    v = w[0]\n",
    "    z = w[1]\n",
    "    u = w[2]\n",
    "    y = w[3]\n",
    "    f = np.ndarray(4)\n",
    "    \n",
    "    f[0] = p*(1-x)*np.sin(y)*z\n",
    "    f[1] = v\n",
    "    f[2] = -p*(1-x)*np.cos(y)\n",
    "    f[3] = u\n",
    "    return f"
   ]
  },
  {
   "cell_type": "code",
   "execution_count": 4,
   "metadata": {
    "collapsed": true
   },
   "outputs": [],
   "source": [
    "def Runge_Kutta_method(w0,n, p, marker_end_of_Newton_method = \"no\"):\n",
    "    x0 = 0\n",
    "    h = 1./n\n",
    "    y = []\n",
    "    for i in range(n):\n",
    "        r1=f(x0,w0, p)\n",
    "        w = w0 + h*f(x0 + 0.5*h, w0 + 0.5*h*r1, p)\n",
    "        w0 = w\n",
    "        x0 = x0 + h \n",
    "        if (marker_end_of_Newton_method == \"end\"):\n",
    "            y.append(w0[3])\n",
    "    return w[1], w[3], y"
   ]
  },
  {
   "cell_type": "markdown",
   "metadata": {},
   "source": [
    "### Решение методом Ньютона"
   ]
  },
  {
   "cell_type": "markdown",
   "metadata": {},
   "source": [
    "$\\alpha_{n+1} = \\alpha_n - \\dfrac{y(1,\\alpha_n)}{z(1,\\alpha_n)} \\hspace {5mm} \\alpha_0 = 0 \\hspace {5mm}$,    где y z находим из Newton_method"
   ]
  },
  {
   "cell_type": "code",
   "execution_count": 5,
   "metadata": {
    "collapsed": true
   },
   "outputs": [],
   "source": [
    "def Newton_method(eps, p):\n",
    "    a0 = 0\n",
    "    n = 10000\n",
    "    a = 1000\n",
    "    y = 1\n",
    "    z =1\n",
    "    while ((y/z)*(y/z) > eps*eps):\n",
    "        w0 = np.array([1,0,a0,0])\n",
    "        z,y, mass_y = Runge_Kutta_method(w0,n, p)\n",
    "        a = a0 - y/z\n",
    "        a0 = a\n",
    "    z,y, mass_y = Runge_Kutta_method(w0,n, p, \"end\")\n",
    "    return y, mass_y, a"
   ]
  },
  {
   "cell_type": "code",
   "execution_count": 10,
   "metadata": {
    "collapsed": false
   },
   "outputs": [],
   "source": [
    "y=[]\n",
    "a=[]\n",
    "mass_y=[]\n",
    "p=[1,4,7]\n",
    "for i in range(3):\n",
    "    d, b, c,  = Newton_method(0.0001, p[i])\n",
    "    y.append(d)\n",
    "    mass_y.append(b)\n",
    "    a.append(c)"
   ]
  },
  {
   "cell_type": "code",
   "execution_count": 16,
   "metadata": {
    "collapsed": false
   },
   "outputs": [
    {
     "data": {
      "text/plain": [
       "10000"
      ]
     },
     "execution_count": 16,
     "metadata": {},
     "output_type": "execute_result"
    }
   ],
   "source": [
    "len(mass_y[0])"
   ]
  },
  {
   "cell_type": "code",
   "execution_count": 12,
   "metadata": {
    "collapsed": true
   },
   "outputs": [],
   "source": [
    "import matplotlib.pyplot as plt\n",
    "import pandas as pd\n",
    "%matplotlib inline"
   ]
  },
  {
   "cell_type": "markdown",
   "metadata": {},
   "source": [
    "# График y(x) - решение уравнения"
   ]
  },
  {
   "cell_type": "code",
   "execution_count": 18,
   "metadata": {
    "collapsed": false
   },
   "outputs": [
    {
     "data": {
      "image/png": "[encoded data removed]",
      "text/plain": [
       "<matplotlib.figure.Figure at 0x7f81f17e2410>"
      ]
     },
     "metadata": {},
     "output_type": "display_data"
    }
   ],
   "source": [
    "import os\n",
    "import sys\n",
    "import matplotlib\n",
    "import matplotlib.pyplot as plt\n",
    "import StringIO\n",
    "import urllib, base64\n",
    "\n",
    "plt.plot(np.linspace(0,1,len(mass_y[2])), mass_y[2])\n",
    "fig = plt.gcf()\n",
    "\n",
    "imgdata = StringIO.StringIO()\n",
    "fig.savefig(imgdata, format='png')\n",
    "imgdata.seek(0) # rewind the data\n",
    "\n",
    "uri = '<img src = \"data:image/png;base64,' + urllib.quote(base64.b64encode(imgdata.buf)) + '\"/>'"
   ]
  },
  {
   "cell_type": "code",
   "execution_count": 1,
   "metadata": {
    "collapsed": false
   },
   "outputs": [],
   "source": [
    "import os\n",
    "import sys\n",
    "import matplotlib\n",
    "import matplotlib.pyplot as plt\n",
    "import StringIO\n",
    "import urllib, base64\n",
    "import numpy as np\n",
    "plt.plot(range(10),np.exp(range(10)))#тут создаешь свой график\n",
    "fig = plt.gcf()\n",
    "\n",
    "imgdata = StringIO.StringIO()\n",
    "fig.savefig(imgdata, format='png')\n",
    "imgdata.seek(0) # rewind the data\n",
    "\n",
    "uri = '<img src = \"data:image/png;base64,' + urllib.quote(base64.b64encode(imgdata.buf)) + '\"/>'"
   ]
  },
  {
   "cell_type": "code",
   "execution_count": 2,
   "metadata": {
    "collapsed": true
   },
   "outputs": [],
   "source": [
    "import pandas as pd"
   ]
  },
  {
   "cell_type": "code",
   "execution_count": 3,
   "metadata": {
    "collapsed": false
   },
   "outputs": [
    {
     "data": {
      "text/html": [
       "<div>\n",
       "<table border=\"1\" class=\"dataframe\">\n",
       "  <thead>\n",
       "    <tr style=\"text-align: right;\">\n",
       "      <th></th>\n",
       "      <th>0</th>\n",
       "      <th>Plot</th>\n",
       "    </tr>\n",
       "  </thead>\n",
       "  <tbody>\n",
       "    <tr>\n",
       "      <th>0</th>\n",
       "      <td>0</td>\n",
       "      <td>&lt;img src = \"data:image/png;base64,iVBORw0KGgoA...</td>\n",
       "    </tr>\n",
       "    <tr>\n",
       "      <th>1</th>\n",
       "      <td>1</td>\n",
       "      <td>&lt;img src = \"data:image/png;base64,iVBORw0KGgoA...</td>\n",
       "    </tr>\n",
       "    <tr>\n",
       "      <th>2</th>\n",
       "      <td>2</td>\n",
       "      <td>&lt;img src = \"data:image/png;base64,iVBORw0KGgoA...</td>\n",
       "    </tr>\n",
       "    <tr>\n",
       "      <th>3</th>\n",
       "      <td>3</td>\n",
       "      <td>&lt;img src = \"data:image/png;base64,iVBORw0KGgoA...</td>\n",
       "    </tr>\n",
       "    <tr>\n",
       "      <th>4</th>\n",
       "      <td>4</td>\n",
       "      <td>&lt;img src = \"data:image/png;base64,iVBORw0KGgoA...</td>\n",
       "    </tr>\n",
       "    <tr>\n",
       "      <th>5</th>\n",
       "      <td>5</td>\n",
       "      <td>&lt;img src = \"data:image/png;base64,iVBORw0KGgoA...</td>\n",
       "    </tr>\n",
       "    <tr>\n",
       "      <th>6</th>\n",
       "      <td>6</td>\n",
       "      <td>&lt;img src = \"data:image/png;base64,iVBORw0KGgoA...</td>\n",
       "    </tr>\n",
       "    <tr>\n",
       "      <th>7</th>\n",
       "      <td>7</td>\n",
       "      <td>&lt;img src = \"data:image/png;base64,iVBORw0KGgoA...</td>\n",
       "    </tr>\n",
       "    <tr>\n",
       "      <th>8</th>\n",
       "      <td>8</td>\n",
       "      <td>&lt;img src = \"data:image/png;base64,iVBORw0KGgoA...</td>\n",
       "    </tr>\n",
       "    <tr>\n",
       "      <th>9</th>\n",
       "      <td>9</td>\n",
       "      <td>&lt;img src = \"data:image/png;base64,iVBORw0KGgoA...</td>\n",
       "    </tr>\n",
       "  </tbody>\n",
       "</table>\n",
       "</div>"
      ],
      "text/plain": [
       "   0                                               Plot\n",
       "0  0  <img src = \"data:image/png;base64,iVBORw0KGgoA...\n",
       "1  1  <img src = \"data:image/png;base64,iVBORw0KGgoA...\n",
       "2  2  <img src = \"data:image/png;base64,iVBORw0KGgoA...\n",
       "3  3  <img src = \"data:image/png;base64,iVBORw0KGgoA...\n",
       "4  4  <img src = \"data:image/png;base64,iVBORw0KGgoA...\n",
       "5  5  <img src = \"data:image/png;base64,iVBORw0KGgoA...\n",
       "6  6  <img src = \"data:image/png;base64,iVBORw0KGgoA...\n",
       "7  7  <img src = \"data:image/png;base64,iVBORw0KGgoA...\n",
       "8  8  <img src = \"data:image/png;base64,iVBORw0KGgoA...\n",
       "9  9  <img src = \"data:image/png;base64,iVBORw0KGgoA..."
      ]
     },
     "execution_count": 3,
     "metadata": {},
     "output_type": "execute_result"
    }
   ],
   "source": [
    "df1 = pd.DataFrame(range(10))\n",
    "df1['Plot'] = [uri]*10\n",
    "df1"
   ]
  },
  {
   "cell_type": "code",
   "execution_count": 11,
   "metadata": {
    "collapsed": false
   },
   "outputs": [
    {
     "data": {
      "text/plain": [
       "[<matplotlib.lines.Line2D at 0x7fb04fd09610>]"
      ]
     },
     "execution_count": 11,
     "metadata": {},
     "output_type": "execute_result"
    },
    {
     "data": {
      "image/png": "[encoded data removed]",
      "text/plain": [
       "<matplotlib.figure.Figure at 0x7fb052430350>"
      ]
     },
     "metadata": {},
     "output_type": "display_data"
    }
   ],
   "source": [
    "plt.plot(np.linspace(0,1,len(mass_y)), mass_y)"
   ]
  },
  {
   "cell_type": "markdown",
   "metadata": {},
   "source": [
    "## Найденные параметры альфа и y[1]"
   ]
  },
  {
   "cell_type": "code",
   "execution_count": 12,
   "metadata": {
    "collapsed": false
   },
   "outputs": [
    {
     "data": {
      "text/plain": [
       "'y[1] = 5.71732536255e-08, alpha = 0.332981713873'"
      ]
     },
     "execution_count": 12,
     "metadata": {},
     "output_type": "execute_result"
    }
   ],
   "source": [
    "('y[1] = {}, alpha = {}').format(y , a)"
   ]
  },
  {
   "cell_type": "code",
   "execution_count": 26,
   "metadata": {
    "collapsed": false
   },
   "outputs": [
    {
     "data": {
      "image/png": "[encoded data removed]",
      "text/plain": [
       "<matplotlib.figure.Figure at 0x7fb052411bd0>"
      ]
     },
     "metadata": {},
     "output_type": "display_data"
    }
   ],
   "source": [
    "df2 = pd.DataFrame({ 'p =  1' :  [y, a, plt.plot(np.linspace(0,1,len(mass_y)), mass_y)],\n",
    "                     \n",
    "                    }, index = [\"y\", \"alpha\", \"График\"])"
   ]
  },
  {
   "cell_type": "code",
   "execution_count": 28,
   "metadata": {
    "collapsed": false
   },
   "outputs": [
    {
     "data": {
      "text/html": [
       "<div>\n",
       "<table border=\"1\" class=\"dataframe\">\n",
       "  <thead>\n",
       "    <tr style=\"text-align: right;\">\n",
       "      <th></th>\n",
       "      <th>p =  1</th>\n",
       "    </tr>\n",
       "  </thead>\n",
       "  <tbody>\n",
       "    <tr>\n",
       "      <th>y</th>\n",
       "      <td>5.71733e-08</td>\n",
       "    </tr>\n",
       "    <tr>\n",
       "      <th>alpha</th>\n",
       "      <td>0.332982</td>\n",
       "    </tr>\n",
       "    <tr>\n",
       "      <th>График</th>\n",
       "      <td>[Line2D(_line0)]</td>\n",
       "    </tr>\n",
       "  </tbody>\n",
       "</table>\n",
       "</div>"
      ],
      "text/plain": [
       "                  p =  1\n",
       "y            5.71733e-08\n",
       "alpha           0.332982\n",
       "График  [Line2D(_line0)]"
      ]
     },
     "execution_count": 28,
     "metadata": {},
     "output_type": "execute_result"
    }
   ],
   "source": [
    "df2"
   ]
  },
  {
   "cell_type": "code",
   "execution_count": null,
   "metadata": {
    "collapsed": true
   },
   "outputs": [],
   "source": []
  }
 ],
 "metadata": {
  "kernelspec": {
   "display_name": "Python 2",
   "language": "python",
   "name": "python2"
  },
  "language_info": {
   "codemirror_mode": {
    "name": "ipython",
    "version": 2
   },
   "file_extension": ".py",
   "mimetype": "text/x-python",
   "name": "python",
   "nbconvert_exporter": "python",
   "pygments_lexer": "ipython2",
   "version": "2.7.13"
  }
 },
 "nbformat": 4,
 "nbformat_minor": 2
}
