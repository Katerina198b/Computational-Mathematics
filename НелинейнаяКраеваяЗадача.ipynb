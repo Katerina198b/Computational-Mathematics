{
 "cells": [
  {
   "cell_type": "markdown",
   "metadata": {
    "deletable": true,
    "editable": true
   },
   "source": [
    "Замятина Екатерина\n",
    "476 группа"
   ]
  },
  {
   "cell_type": "markdown",
   "metadata": {
    "deletable": true,
    "editable": true
   },
   "source": [
    "# Получите  численное  решение   нелинейной  краевой задачи:"
   ]
  },
  {
   "cell_type": "markdown",
   "metadata": {
    "deletable": true,
    "editable": true
   },
   "source": [
    "$$ \\hspace{5mm} y^\" + p*x*\\cos(y) = 0, \\hspace{1cm} 0<x\\leq 1$$\n",
    "$$ y(0)=0; \\hspace{5mm} y(1)=0, p=1,4,7,25,50,100 $$"
   ]
  },
  {
   "cell_type": "markdown",
   "metadata": {
    "deletable": true,
    "editable": true
   },
   "source": [
    "## Теоретическая часть"
   ]
  },
  {
   "cell_type": "markdown",
   "metadata": {
    "deletable": true,
    "editable": true
   },
   "source": [
    "Перемишем задачу в виде: $$ y\" = -p*x\\cos(y) = [x=1-x] = -p(1-x)\\cos(y) =  f(x,y)$$\n",
    "$$ y(1)=0; \\hspace{5mm} y(0)=0, p=1,4,7,25,50,100 $$"
   ]
  },
  {
   "cell_type": "markdown",
   "metadata": {
    "deletable": true,
    "editable": true
   },
   "source": [
    "### Метод стрельбы"
   ]
  },
  {
   "cell_type": "markdown",
   "metadata": {
    "deletable": true,
    "editable": true
   },
   "source": [
    "Будем сводить решение краевой задачи к задачи Коши вида:\n",
    "\n",
    "$ y\" = f(x,y) \\hspace{1cm} 0<x\\leq 1$\n",
    "\n",
    "$y(0) = 0;\\hspace{15mm} y'(0)=\\alpha$\n",
    "\n",
    "$y(x,\\alpha)|_{x=1}=y(1,\\alpha)= F(\\alpha) = 0$\n"
   ]
  },
  {
   "cell_type": "markdown",
   "metadata": {
    "deletable": true,
    "editable": true
   },
   "source": [
    "Как видно из строчки выше, для этого нам надо решить уравнение $F(\\alpha)=0$.\n",
    "\n",
    "Будем решать методом Ньютона."
   ]
  },
  {
   "cell_type": "markdown",
   "metadata": {
    "deletable": true,
    "editable": true
   },
   "source": [
    "Задаем $\\alpha_0 = 0$\n",
    "\n",
    "$\\alpha_{n+1} = \\alpha_n - \\dfrac{F(\\alpha_n)}{F'(\\alpha_n)} = \\alpha_n - \\dfrac{y'(1,\\alpha_n)}{y''(1,\\alpha_n)}$"
   ]
  },
  {
   "cell_type": "markdown",
   "metadata": {
    "deletable": true,
    "editable": true
   },
   "source": [
    "Для нахождения y', y будем решать Задачу Коши выписанную выше (но все равно ее продублируем):"
   ]
  },
  {
   "cell_type": "markdown",
   "metadata": {
    "deletable": true,
    "editable": true
   },
   "source": [
    "$$\\begin{equation*}\n",
    " \\begin{cases}\n",
    "   y\"(x,\\alpha) = f(x,y)& x\\in[0,1]\\\\\n",
    "   y(0,\\alpha) = 0 & y'(0,\\alpha) = \\alpha\n",
    " \\end{cases}\n",
    "\\end{equation*}  \\hspace{5mm}(1)\n",
    "$$"
   ]
  },
  {
   "cell_type": "markdown",
   "metadata": {
    "deletable": true,
    "editable": true
   },
   "source": [
    "Продифференцируем уравнение по $\\alpha$:"
   ]
  },
  {
   "cell_type": "markdown",
   "metadata": {
    "deletable": true,
    "editable": true
   },
   "source": [
    "$$ \\frac{\\partial y^\"(x,\\alpha)}{\\partial \\alpha} = \\dfrac{\\partial f}{\\partial x} \\dfrac{\\partial x}{\\partial \\alpha} + \\dfrac{\\partial f}{\\partial y} \\dfrac{\\partial y}{\\partial \\alpha}$$"
   ]
  },
  {
   "cell_type": "markdown",
   "metadata": {
    "deletable": true,
    "editable": true
   },
   "source": [
    "Причем $\\dfrac{\\partial x}{\\partial \\alpha} = 0$, так как x не зависит от $\\alpha$."
   ]
  },
  {
   "cell_type": "markdown",
   "metadata": {
    "deletable": true,
    "editable": true
   },
   "source": [
    "Введем новую переменную:    $z(\\alpha, x) = \\dfrac{\\partial y}{\\partial \\alpha}$\n",
    "   Тогда начальные условия перепишутся в виде: $z(0,\\alpha) = 0 \\hspace{5mm} z'(0, \\alpha) = 1$  Получим:"
   ]
  },
  {
   "cell_type": "markdown",
   "metadata": {
    "deletable": true,
    "editable": true
   },
   "source": [
    "$$\\begin{equation*}\n",
    " \\begin{cases}\n",
    "  z^\"(x, \\alpha) = \\dfrac{\\partial f}{\\partial y} z(x,\\alpha)  & x\\in[0,1]\\\\\n",
    "   z(0,\\alpha) = 0 & z'(0,\\alpha) = 1 &\n",
    " \\end{cases}\n",
    "\\end{equation*} \\hspace{5mm} (2)\n",
    "$$"
   ]
  },
  {
   "cell_type": "markdown",
   "metadata": {
    "deletable": true,
    "editable": true
   },
   "source": [
    "\n",
    "$$\\alpha_{n+1} = \\alpha_n - \\dfrac{y(1,\\alpha_n)}{z(1,\\alpha_n)} \\hspace {1cm} \\alpha_0 = 0$$"
   ]
  },
  {
   "cell_type": "markdown",
   "metadata": {
    "deletable": true,
    "editable": true
   },
   "source": [
    "### Решение задачи Коши"
   ]
  },
  {
   "cell_type": "markdown",
   "metadata": {
    "deletable": true,
    "editable": true
   },
   "source": [
    "Перепишем задачу Коши (2) (1) для нашего уравнения:\n",
    "\n",
    "\\begin{equation}\n",
    " \\begin{cases}\n",
    "  z^\"(x, \\alpha) = p(1-x) \\sin(y)*z(x,\\alpha) & x\\in[0,1]\\\\\n",
    "   z(1,\\alpha) = 0 & z'(0,\\alpha) = 1 \\\\\n",
    "   \\\\\n",
    "   y^\"(x,\\alpha) = -p(1-x) \\cos(y)& x\\in[0,1]\\\\\n",
    "   y(1,\\alpha) = 0 & y'(1,\\alpha) = \\alpha\n",
    " \\end{cases}\n",
    "\\end{equation} \n"
   ]
  },
  {
   "cell_type": "markdown",
   "metadata": {
    "deletable": true,
    "editable": true
   },
   "source": [
    "Сведем получившиеся системы к системе первого порядка:\n",
    "\n",
    "\n",
    "\\begin{equation}\n",
    " \\begin{cases}\n",
    "  v'(x, \\alpha) = p(1 - x) \\sin(y)*z(x,\\alpha) & x\\in[0,1]\\\\\n",
    "   v(1,\\alpha) = 1 \\\\\n",
    "   \\\\\n",
    "   z'_x(x, \\alpha) = v(x, \\alpha) \\\\\n",
    "   z(1,\\alpha) = 0 \\\\\n",
    "   \\\\\n",
    "   u_x'(x,\\alpha) = -p(1 - x) \\cos(y)& x\\in[0,1]\\\\\n",
    "   u(1,\\alpha) = \\alpha \\\\\n",
    "   \\\\\n",
    "   y'_x(x, \\alpha)=u(x, \\alpha) \\\\\n",
    "   y(1,\\alpha) = 0 \\\\\n",
    " \\end{cases}\n",
    "\\end{equation}"
   ]
  },
  {
   "cell_type": "markdown",
   "metadata": {
    "deletable": true,
    "editable": true
   },
   "source": [
    "Систему  можно решить явным Методом Ругне Кутта второго порядка:\n",
    "\\begin{equation}\n",
    " \\begin{cases}\n",
    "  w(x)' = f(w,x)& x\\in (0,1]\\\\\n",
    "  w(0) = w_0\\\\\n",
    " \\end{cases}\n",
    "\\end{equation}\n",
    "\n",
    "\n",
    "$$w_{n+1} = w_n +h(b_1r_1 + b_2r_2) = w_n + hr_2$$\n",
    "\n",
    "\n",
    "$$r1=f(w_n,x_n)$$\n",
    "\n",
    "$$r2=f(w_n + \\frac{h}{2},w_n+ \\frac{h}{2}r_1)$$\n",
    "\n",
    "$$w = (v,z,u,y)^T \\hspace{1cm} w_0 =(1,0,\\alpha, 0)^T$$"
   ]
  },
  {
   "cell_type": "markdown",
   "metadata": {
    "deletable": true,
    "editable": true
   },
   "source": [
    "## Практическая часть"
   ]
  },
  {
   "cell_type": "markdown",
   "metadata": {
    "deletable": true,
    "editable": true
   },
   "source": [
    "### Решение Задачи Коши"
   ]
  },
  {
   "cell_type": "code",
   "execution_count": 5,
   "metadata": {
    "collapsed": true,
    "deletable": true,
    "editable": true
   },
   "outputs": [],
   "source": [
    "import numpy as np"
   ]
  },
  {
   "cell_type": "code",
   "execution_count": 10,
   "metadata": {
    "collapsed": false,
    "deletable": true,
    "editable": true
   },
   "outputs": [],
   "source": [
    "def f(x, w, p):\n",
    "    v = w[0]\n",
    "    z = w[1]\n",
    "    u = w[2]\n",
    "    y = w[3]\n",
    "    f = np.ndarray(4)\n",
    "    \n",
    "    f[0] = p*(1-x)*np.sin(y)*z\n",
    "    f[1] = v\n",
    "    f[2] = -p*(1-x)*np.cos(y)\n",
    "    f[3] = u\n",
    "    return f"
   ]
  },
  {
   "cell_type": "code",
   "execution_count": 11,
   "metadata": {
    "collapsed": true,
    "deletable": true,
    "editable": true
   },
   "outputs": [],
   "source": [
    "def Runge_Kutta_method(w0,n, p, marker_end_of_Newton_method = \"no\"):\n",
    "    x0 = 0\n",
    "    h = 1./n\n",
    "    y = []\n",
    "    for i in range(n):\n",
    "        r1=f(x0,w0, p)\n",
    "        w = w0 + h*f(x0 + 0.5*h, w0 + 0.5*h*r1, p)\n",
    "        w0 = w\n",
    "        x0 = x0 + h \n",
    "        if (marker_end_of_Newton_method == \"end\"):\n",
    "            y.append(w0[3])\n",
    "    return w[1], w[3], y"
   ]
  },
  {
   "cell_type": "markdown",
   "metadata": {
    "deletable": true,
    "editable": true
   },
   "source": [
    "### Решение методом Ньютона"
   ]
  },
  {
   "cell_type": "markdown",
   "metadata": {
    "deletable": true,
    "editable": true
   },
   "source": [
    "$\\alpha_{n+1} = \\alpha_n - \\dfrac{y(1,\\alpha_n)}{z(1,\\alpha_n)} \\hspace {5mm} \\alpha_0 = 0 \\hspace {5mm}$,    где y z находим из Newton_method"
   ]
  },
  {
   "cell_type": "code",
   "execution_count": 12,
   "metadata": {
    "collapsed": true,
    "deletable": true,
    "editable": true
   },
   "outputs": [],
   "source": [
    "def Newton_method(eps, p):\n",
    "    a0 = 0\n",
    "    n = 10000\n",
    "    a = 1000\n",
    "    y = 1\n",
    "    z =1\n",
    "    while ((y/z)*(y/z) > eps*eps):\n",
    "        w0 = np.array([1,0,a0,0])\n",
    "        z,y, mass_y = Runge_Kutta_method(w0,n, p)\n",
    "        a = a0 - y/z\n",
    "        a0 = a\n",
    "    z,y, mass_y = Runge_Kutta_method(w0,n, p, \"end\")\n",
    "    return y, mass_y, a"
   ]
  },
  {
   "cell_type": "code",
   "execution_count": 13,
   "metadata": {
    "collapsed": false,
    "deletable": true,
    "editable": true
   },
   "outputs": [],
   "source": [
    "y=[]\n",
    "a=[]\n",
    "mass_y=[]\n",
    "p=[1,4,7]\n",
    "for i in range(3):\n",
    "    d, b, c,  = Newton_method(0.0001, p[i])\n",
    "    y.append(d)\n",
    "    mass_y.append(b)\n",
    "    a.append(c)"
   ]
  },
  {
   "cell_type": "code",
   "execution_count": 14,
   "metadata": {
    "collapsed": true,
    "deletable": true,
    "editable": true
   },
   "outputs": [],
   "source": [
    "import matplotlib.pyplot as plt\n",
    "import pandas as pd\n",
    "%matplotlib inline"
   ]
  },
  {
   "cell_type": "markdown",
   "metadata": {
    "deletable": true,
    "editable": true
   },
   "source": [
    "# График y(x) - решение уравнения"
   ]
  },
  {
   "cell_type": "code",
   "execution_count": 16,
   "metadata": {
    "collapsed": false,
    "deletable": true,
    "editable": true
   },
   "outputs": [
    {
     "data": {
      "image/png": "[encoded data removed]",
      "text/plain": [
       "<matplotlib.figure.Figure at 0x7ff7d6899250>"
      ]
     },
     "metadata": {},
     "output_type": "display_data"
    }
   ],
   "source": [
    "plt.figure(figsize=(25, 10))\n",
    "for j in range(len(p)):\n",
    "    ax = plt.subplot(1, len(p), j + 1)\n",
    "    plt.plot(np.linspace(0,1,len(mass_y[j])), mass_y[j])\n",
    "    from mpl_toolkits.axes_grid.anchored_artists import AnchoredText\n",
    "    at = AnchoredText(r' p ={}{} alpha={}{} y = {}'.format(p[j],'\\n', a[j],'\\n', y[j]),\n",
    "                  prop=dict(size=15), frameon=True,\n",
    "                  loc=2,\n",
    "                  )\n",
    "    at.patch.set_boxstyle(\"round,pad=0.,rounding_size=0.2\")\n",
    "    ax.add_artist(at)\n",
    "    ax.set_ylim([0,0.5])\n",
    "    plt.legend()\n",
    "plt.show()"
   ]
  },
  {
   "cell_type": "markdown",
   "metadata": {
    "collapsed": true,
    "deletable": true,
    "editable": true
   },
   "source": [
    "# Неусточивость метода прогонки"
   ]
  },
  {
   "cell_type": "markdown",
   "metadata": {
    "deletable": true,
    "editable": true
   },
   "source": [
    "Метод стрельбы, сводящий решение краевой задачи (1) к вычислению решений задачи Коши (2), хорошо работает в том случае если p достаточно мал. \n",
    "Неустойчивость можно увидеть если запустить NewtonMethod c p $\\ge 20$\n",
    "Чтобы понять природу неустойчивости жавайте ленеризуем задачу:\n",
    "$y(x) = y_0(x) + v(x)$ , где v(x) - поправка к нулевому приближению $y_0$\n",
    "\n",
    "$y''(x) = y_0''(x) + v''(x)$\n",
    "\n",
    "$f(x, y_0 + v) = f(x,y_0) + \\dfrac{\\partial f(x,y_0)}{\\partial y}v  + O(|v^2|)$\n",
    "\n",
    "$r(x) = f(y_0,x) - y''_0(x)$\n",
    "\n",
    "Применим выкладки выше для нашей системы:\n",
    "\n",
    "$v''(x) \\approx p(1-x)\\sin(y_0)*v \\approx q^2(p)*v \\hspace{50mm} (3)$\n",
    "\n",
    "$v(0)=0 \\hspace{20mm} v(1) = \\alpha$\n",
    "\n",
    "\n",
    "\n",
    "Решение: $v = \\dfrac{\\alpha}{e^q + e^{-q}}e^{q(p)x} - \\dfrac{\\alpha}{e^q + e^{-q}} e^{-q(p)x}$\n",
    "\n",
    "Видно, что при больших параметрах q(p) задача становится жесткой и не устойчивой, получается, что при малых погрешностях в вычислениях $\\alpha$ решение задачи сильно меняется.\n"
   ]
  },
  {
   "cell_type": "markdown",
   "metadata": {
    "deletable": true,
    "editable": true
   },
   "source": [
    "Еще один пример (не относящийся к исходной задаче)\n",
    "\n",
    "$ y\" - a^2y = 0 \\hspace{17mm} x \\in [0,1]$\n",
    "\n",
    "$ y(0) = Y_0 \\hspace{20mm} y(1) = Y_1 $\n",
    "\n",
    "Решение данной системы : $y(x) = \\dfrac{e^{-ax} - e^{-a(2-x)}}{1 - e^{-2a}}Y_0 + \\dfrac{e^{-a(1-x)} - e^{-a(1+x)}}{1 -e^{-2a}}Y_1$"
   ]
  },
  {
   "cell_type": "markdown",
   "metadata": {
    "deletable": true,
    "editable": true
   },
   "source": [
    "Коэффициенты при с ростом а остаются ограниченными на отрезке функциями; при всех они не превосходят единицу. Поэтому небольшие ошибки при задании ведут к столь же небольшим погрешностям в решении. Рассмотрим теперь задачу Коши:\n",
    "\n",
    "$ y\" - a^2y = 0 \\hspace{17mm} x \\in [0,1]$\n",
    "\n",
    "$ y(0) = Y_0 \\hspace{20mm} y(1) = tg(\\alpha) $\n",
    "\n",
    "Решение данной системы : $y(x) = \\dfrac{e^{-\\alpha x} - e^{-\\alpha (2-x)}}{1 - e^{-2\\alpha}} e^{\\alpha x} + \\dfrac{e^{-\\alpha (1-x)} - e^{-\\alpha (1+x)}}{1 -e^{-2\\alpha}}e^{- \\alpha x} $\n",
    "\n",
    "Если при задании $\\alpha$ допущена погрешность $\\varepsilon$, то значение решения при x=1 получит приращение :\n",
    "$\\delta y = \\dfrac{\\varepsilon}{2\\alpha}e^{\\alpha} - \\dfrac{\\varepsilon}{2\\alpha}e^{-\\alpha}$\n",
    "\n",
    "При больших $\\alpha$ вычитаемое в равенстве выше пренебрежимо мало, но коэффициент при в первом $e^{\\alpha}$ слагаемом становится большим. Поэтому метод стрельбы при решении задачи будучи формально приемлемой процедурой, при больших $\\alpha$ становится практически непригодным. "
   ]
  },
  {
   "cell_type": "markdown",
   "metadata": {
    "deletable": true,
    "editable": true
   },
   "source": [
    "# Метод Ньютона (Метод линеризации)"
   ]
  },
  {
   "cell_type": "markdown",
   "metadata": {
    "deletable": true,
    "editable": true
   },
   "source": [
    "Воспользуемся методом линеризации описанном выше , а именно формулой (3)\n",
    "\n",
    "Пусть $y_0(x) = (x-1)*x$\n",
    "\n",
    "$y(x) = y_0(x) + v(x)$\n",
    "\n",
    "$v(0)=0 \\hspace{15mm} v(1) = 0$\n",
    "\n",
    "$r(x) = -p(1-x)\\cos(y_0) - \\nabla^2 y_0$\n",
    "\n",
    "\n",
    "$\n",
    "$$\\begin{equation*}\n",
    " \\begin{cases}\n",
    " v''(x) = p(1-x)\\sin(y_0)*v(x)  +r(x) \\\\\n",
    " v(0)=0 \\hspace{10mm} v(1) = 0 \\hspace{10mm} x\\in[0,1] \n",
    " \\end{cases}\n",
    "\\end{equation*} \n",
    "$$\n",
    "$\n",
    "\n",
    "Будем решать данную линейную систему методом дифференциальной прогонки и обычной прогонкой."
   ]
  },
  {
   "cell_type": "markdown",
   "metadata": {
    "deletable": true,
    "editable": true
   },
   "source": [
    "### Диффернциальный метод прогонки"
   ]
  },
  {
   "cell_type": "markdown",
   "metadata": {
    "deletable": true,
    "editable": true
   },
   "source": [
    "$\n",
    "$$\\begin{equation*}\n",
    " \\begin{cases}\n",
    " v'(x) = w(x) & v(0)=0 & v(1) = 0 \\\\\n",
    " w'(x) = p(1-x)\\sin(y_0)*v  +r(x)  & x\\in[0,1] &\n",
    " \\end{cases}\n",
    "\\end{equation*} \n",
    "$$\n",
    "$"
   ]
  },
  {
   "cell_type": "markdown",
   "metadata": {
    "deletable": true,
    "editable": true
   },
   "source": [
    "Будем искать решение в виде $v(x) = \\alpha(x)w(x) + \\beta(x)$, где $\\alpha$ и $\\beta$ - прогоночные коэффиценты.\n",
    "$v'(x) = \\alpha'(x) w(x) + \\alpha w'(x) + \\beta'(x) = \\alpha'(x) w(x) + \\alpha(x) (p(1-x)\\sin(y_0)*v(x) + r(x)) + \\beta'(x) = \\alpha'(x) w(x) + \\alpha(x) (p(1-x)\\sin(y_0)*(\\alpha(x)w(x) + \\beta(x)) + r(x)) + \\beta'(x) =  w(x) $"
   ]
  },
  {
   "cell_type": "markdown",
   "metadata": {
    "deletable": true,
    "editable": true
   },
   "source": [
    "$w(x)(-1 + \\alpha'(x) + \\alpha^2(x)p(1-x)\\sin(y_0)) + \\alpha(p(1-x)\\sin(y_0) * \\beta(x) + r(x)) + \\beta'(x) = 0$"
   ]
  },
  {
   "cell_type": "markdown",
   "metadata": {
    "deletable": true,
    "editable": true
   },
   "source": [
    "Приравнивания к нулю стемени w(x) , получим два диффернциальных уравнения для прогоночных коэффицентов:\n",
    "\n",
    "$\n",
    "$$\\begin{equation*}\n",
    " \\begin{cases}\n",
    " -1 + \\alpha'(x) + \\alpha^2(x)p(1-x)\\sin(y_0) = 0 \\\\\n",
    "\\alpha(p(1-x)\\sin(y_0) * \\beta(x) + r(x)) + \\beta'(x) = 0 \\\\\n",
    " \\end{cases}\n",
    "\\end{equation*} \n",
    "$$\n",
    "$\n",
    "\n",
    "$\n",
    "$$\\begin{equation*}\n",
    " \\begin{cases}\n",
    "\\alpha'(x) = 1 - \\alpha^2(x)p(1-x)\\sin(y_0) \\\\\n",
    "\\beta'(x) = -\\alpha(p(1-x)\\sin(y_0) * \\beta(x) + r(x)) \\\\\n",
    "\\alpha(0) = 0 \\\\\n",
    "\\beta(0) = 0\n",
    " \\end{cases}\n",
    "\\end{equation*} \n",
    "$$\n",
    "$"
   ]
  },
  {
   "cell_type": "markdown",
   "metadata": {
    "deletable": true,
    "editable": true
   },
   "source": [
    "Левое граничное условие :$v(0) = \\alpha(0) w(0) + \\beta(0) = 0$ - пусть $\\alpha(0) = 0 \\hspace{5mm} \\beta(0)=0$"
   ]
  },
  {
   "cell_type": "markdown",
   "metadata": {
    "deletable": true,
    "editable": true
   },
   "source": [
    "Получим разностную задачу для w(x):\n",
    "\n",
    "Правое граничное условие: $v(1) = w(1)\\alpha(1) + \\beta(1) = 0$ ,тогда $w(1) = -\\frac{\\beta(1)}{\\alpha(1)}$\n",
    "\n",
    "$w'(x) = p(1-x)\\sin((y_0)*v  +r(x) = p(1-x)\\sin(y_0)*(\\alpha(x)w(x) + \\beta(x)) +  r(x)$\n",
    "\n"
   ]
  },
  {
   "cell_type": "markdown",
   "metadata": {
    "deletable": true,
    "editable": true
   },
   "source": [
    "Эти задачи Коши могут быть решены методом Рунге-Кутты второго порядка."
   ]
  },
  {
   "cell_type": "markdown",
   "metadata": {
    "deletable": true,
    "editable": true
   },
   "source": [
    "# Практическая часть"
   ]
  },
  {
   "cell_type": "markdown",
   "metadata": {
    "deletable": true,
    "editable": true
   },
   "source": [
    "$r(x) = -p(1-x)\\cos(y_0) - \\nabla^2 y_0$"
   ]
  },
  {
   "cell_type": "code",
   "execution_count": 102,
   "metadata": {
    "collapsed": true,
    "deletable": true,
    "editable": true
   },
   "outputs": [],
   "source": [
    "def r(x,p,ddy,y0):\n",
    "    #print (-p*(1.-x)*np.cos(y0), - ddy)\n",
    "    return-p*(1.-x)*np.cos(y0) - ddy"
   ]
  },
  {
   "cell_type": "markdown",
   "metadata": {
    "deletable": true,
    "editable": true
   },
   "source": [
    "$\n",
    "$$\\begin{equation*}\n",
    " \\begin{cases}\n",
    "\\alpha'(x) = 1 - \\alpha^2(x)p(1-x)\\sin(y_0) \\\\\n",
    "\\beta'(x) = -\\alpha(p(1-x)\\sin(y_0) * \\beta(x) + r(x)) \n",
    " \\end{cases}\n",
    "\\end{equation*} \n",
    "$$\n",
    "$"
   ]
  },
  {
   "cell_type": "code",
   "execution_count": 53,
   "metadata": {
    "collapsed": false,
    "deletable": true,
    "editable": true
   },
   "outputs": [],
   "source": [
    "def f(x, w, p, ddy, y0):\n",
    "    a = w[0]\n",
    "    b = w[1]\n",
    "    f = np.ndarray(2)\n",
    "    \n",
    "    f[0] = 1 - a*a*p*(1-x)*np.sin(y0)\n",
    "    #print f[0]\n",
    "    f[1] = -a*(p * (1-x) * np.sin(y0) * b + r(x,p,ddy,y0))\n",
    "    return f"
   ]
  },
  {
   "cell_type": "markdown",
   "metadata": {
    "deletable": true,
    "editable": true
   },
   "source": [
    "### Метод дифференциальной прогонки"
   ]
  },
  {
   "cell_type": "markdown",
   "metadata": {
    "deletable": true,
    "editable": true
   },
   "source": [
    "$w'(x) = p(1-x)\\sin(y_0(x))*(\\alpha(x)w(x) + \\beta(x)) +  r(x)$\n",
    "\n",
    "$w'(1 - x) = p(x)\\sin(y_0(1-x))*(\\alpha(1-x)w(1-x) + \\beta(1-x)) +  r(1-x)$"
   ]
  },
  {
   "cell_type": "code",
   "execution_count": 45,
   "metadata": {
    "collapsed": true,
    "deletable": true,
    "editable": true
   },
   "outputs": [],
   "source": [
    "def g(x, w, p, a , b, y0,ddy):\n",
    "    return p * x * np.sin(y0) * (a * w + b) + r(1 - x,p,ddy,y0)"
   ]
  },
  {
   "cell_type": "markdown",
   "metadata": {
    "deletable": true,
    "editable": true
   },
   "source": [
    "$y_0(x) = x*(1-x)$"
   ]
  },
  {
   "cell_type": "code",
   "execution_count": 181,
   "metadata": {
    "collapsed": true,
    "deletable": true,
    "editable": true
   },
   "outputs": [],
   "source": [
    "def fy0(n):\n",
    "    x = np.linspace(0, 1, n)\n",
    "    y0 =  np.array([p*x[i]*(1. - x[i]) for i in range(0, n)])\n",
    "    return y0"
   ]
  },
  {
   "cell_type": "code",
   "execution_count": 131,
   "metadata": {
    "collapsed": true,
    "deletable": true,
    "editable": true
   },
   "outputs": [],
   "source": [
    "def dd_y0(n,y0):\n",
    "    return np.array(list(np.diff(y0,n=2)) + list(np.diff(y0,n=2)[:2]))*n*n\n",
    "    #return np.ones(n)"
   ]
  },
  {
   "cell_type": "markdown",
   "metadata": {
    "deletable": true,
    "editable": true
   },
   "source": [
    "$w'(x)  = p(1-x)\\sin(y_0)*(\\alpha(x)w(x) + \\beta(x)) \\Rightarrow$\n",
    "\n",
    "$w'(x)= p*x\\sin(y_0)*(\\alpha(1-x)w(x) + \\beta(1-x))$\n",
    "\n",
    "$w(0) = - \\frac{\\alpha}{\\beta}$"
   ]
  },
  {
   "cell_type": "code",
   "execution_count": 132,
   "metadata": {
    "collapsed": true,
    "deletable": true,
    "editable": true
   },
   "outputs": [],
   "source": [
    "def Runge_Kutta_method_2(w0, n, p, a, b, y0,ddy):\n",
    "    x0 = 0\n",
    "    h = 1./n\n",
    "    w = []\n",
    "    for i in range(1,n+1):\n",
    "        w.append(w0)\n",
    "        r1=g(x0, w0, p, a[-i], b[-i], y0[-i], ddy[-i])\n",
    "        w0 = w0 + h * g(x0 + 0.5*h, w0 + 0.5*h*r1, p, a[-i], b[-i], y0[-i], ddy[-i])\n",
    "        #print h * g(x0 + 0.5*h, w0 + 0.5*h*r1, p, a[-i], b[-i], y0[-i], ddy[-i])\n",
    "        x0 = x0 + h \n",
    "    w = np.array(w)[::-1]*a+b    \n",
    "    #print w\n",
    "    return w"
   ]
  },
  {
   "cell_type": "code",
   "execution_count": 133,
   "metadata": {
    "collapsed": true,
    "deletable": true,
    "editable": true
   },
   "outputs": [],
   "source": [
    "def Runge_Kutta_method(w0, n, p, y0,ddy):\n",
    "    x0 = 0\n",
    "    h = 1./n\n",
    "    a = []\n",
    "    b = [] \n",
    "    for i in range(n):\n",
    "        r1=f(x0, w0, p, ddy[i], y0[i])\n",
    "        w0 = w0 + h*f(x0 + 0.5*h, w0 + 0.5*h*r1, p, ddy[i], y0[i])\n",
    "        x0 = x0 + h \n",
    "        #print w0[1]\n",
    "        a.append(w0[0])\n",
    "        b.append(w0[1])\n",
    "    return a,b"
   ]
  },
  {
   "cell_type": "code",
   "execution_count": 183,
   "metadata": {
    "collapsed": true,
    "deletable": true,
    "editable": true
   },
   "outputs": [],
   "source": [
    "def Linearization_method(y0, p, r, n, eps):\n",
    "    run_c = [0,0]\n",
    "    for j in range(1):\n",
    "        ddy = dd_y0(n, y0)\n",
    "        a, b = Runge_Kutta_method(run_c, n, p, y0, ddy)\n",
    "        #print a\n",
    "        #print np.linalg.norm(b)\n",
    "        w0 = - 1.*b[-1]/a[-1]\n",
    "        y = Runge_Kutta_method_2(w0, n, p, a, b, y0, ddy)\n",
    "        #print np.linalg.norm(y)\n",
    "        y0  = y0 + y\n",
    "    return y0"
   ]
  },
  {
   "cell_type": "code",
   "execution_count": 184,
   "metadata": {
    "collapsed": false,
    "deletable": true,
    "editable": true,
    "scrolled": true
   },
   "outputs": [],
   "source": [
    "import numpy as np\n",
    "n = 1000\n",
    "eps = 0.01\n",
    "mass_y=[]\n",
    "mass_p=[1,2,4,15]\n",
    "for p in mass_p:\n",
    "    y = Linearization_method(fy0(n), p, r, n, eps)\n",
    "    mass_y.append(y)"
   ]
  },
  {
   "cell_type": "code",
   "execution_count": null,
   "metadata": {
    "collapsed": true,
    "deletable": true,
    "editable": true
   },
   "outputs": [],
   "source": []
  },
  {
   "cell_type": "markdown",
   "metadata": {
    "deletable": true,
    "editable": true
   },
   "source": [
    "y = (x-1)*x + \\alpha(x)w(x) + \\beta(x)$"
   ]
  },
  {
   "cell_type": "code",
   "execution_count": 186,
   "metadata": {
    "collapsed": false,
    "deletable": true,
    "editable": true
   },
   "outputs": [
    {
     "data": {
      "image/png": "[encoded data removed]",
      "text/plain": [
       "<matplotlib.figure.Figure at 0x10da0c210>"
      ]
     },
     "metadata": {},
     "output_type": "display_data"
    }
   ],
   "source": [
    "import matplotlib.pyplot as plt\n",
    "import pandas as pd\n",
    "%matplotlib inline\n",
    "plt.figure(figsize=(25, 10))\n",
    "for j in range(len(mass_p)):\n",
    "    ax = plt.subplot(1, len(mass_p), j + 1)\n",
    "    plt.plot(np.linspace(0,1,len(mass_y[j])), mass_y[j])\n",
    "    from mpl_toolkits.axes_grid.anchored_artists import AnchoredText\n",
    "    at = AnchoredText(r' p ={}'.format(mass_p[j]),\n",
    "                  prop=dict(size=15), frameon=True,\n",
    "                  loc=2,\n",
    "                  )\n",
    "    at.patch.set_boxstyle(\"round,pad=0.,rounding_size=0.2\")\n",
    "    ax.add_artist(at)\n",
    "    ax.set_ylim([0,25])\n",
    "    plt.legend()\n",
    "plt.show()"
   ]
  },
  {
   "cell_type": "markdown",
   "metadata": {
    "deletable": true,
    "editable": true
   },
   "source": [
    "## Метод прогонки (Теоретическая часть)"
   ]
  },
  {
   "cell_type": "markdown",
   "metadata": {},
   "source": [
    "$\n",
    "$$\\begin{equation*}\n",
    " \\begin{cases}\n",
    " v''(x) = p(1-x)\\sin(y_0)*v(x)  +r(x) \\\\\n",
    " v(0)=0 \\hspace{10mm} v(1) = 0 \\hspace{10mm} x\\in[0,1] \n",
    " \\end{cases}\n",
    "\\end{equation*} \n",
    "$$\n",
    "$\n",
    "\n",
    "Построим разностную схему второго порядка апроксимации: $\\dfrac{v_{n+1} + v_{n-1} - 2v_n}{h^2} = r(x) + p*\\sin(y_0)*(1-x)v_n$\n",
    "$\\frac{1}{h^2} v_n + \\frac{1}{h^2}v_{n-1} + v_n(-p*sin(y_0)(1-x) - \\frac{2}{h^2}) = a_n v_{n-1} + b v_n + c v_{n=1}  = r(x) \\hspace{10mm} n \\in 2..n-1$\n",
    "\n",
    "Граничные условия: $v_1=v_n = 0$ \n",
    "\n",
    "\n",
    "Для определения сеточной функции решается СЛАУ с трехдиагональной матрицей:\n",
    "\n",
    "$\\begin{pmatrix}\n",
    "b_{1} & c_{1} & 0 & \\cdots & 0 \\\\\n",
    "a_{2} & b_{2} & c_{2} & \\cdots & 0 \\\\  \n",
    "0 & a_{3} & b_{3} & \\cdots & 0 \\\\\n",
    "\\cdots & \\cdots & \\cdots & \\cdots \\\\\n",
    "0 & 0 & 0 & \\cdots & b_{n}\n",
    "\\end{pmatrix} v = r$\n",
    "\n",
    "Теорема: Пусть выполнены условия диагонального пробладания $|b_n| \\ge |a_n| + |c_n|$  и хотя бы для одной строки матрицы имеет место строгое диагональное преобладание. Пусть кроме того $0 \\le \\frac{c_1}{b_1} \\le 1$. Тогда алгоритм устройчив.\n",
    "\n",
    "Для данной задачи имеем: $\\frac{c_1}{b_1} = \\frac{0}{1} = 0, \\hspace{10mm} |b_n| = p*sin(y_0)(1-x) + \\frac{2}{h^2} \\ge \\frac{2}{h^2} = \\frac{1}{h^2} +  \\frac{1}{h^2} = |a_n| + |b_n|$, также , лекго видель что существуую элементы со срогим деогональным преобладанием, а это означает , что метод устойчив."
   ]
  },
  {
   "cell_type": "markdown",
   "metadata": {
    "collapsed": true,
    "deletable": true,
    "editable": true
   },
   "source": [
    "## Практическая часть"
   ]
  },
  {
   "cell_type": "code",
   "execution_count": 138,
   "metadata": {
    "collapsed": false,
    "deletable": true,
    "editable": true
   },
   "outputs": [],
   "source": [
    "\n",
    "import matplotlib.pyplot as plt\n",
    "%matplotlib inline\n",
    "\n",
    "def thomas_algorithm(a, b, c, d):\n",
    "    \"\"\"\n",
    "    Solves the Tridiagonal Linear System\n",
    "          --             -- -- --   -- --\n",
    "          |b_1 c_1        | |f_1|   |d_1|\n",
    "          |a_2 b_2 c_2    | | . |   | . |\n",
    "          |    a_3 . . .  | | . | = | . |\n",
    "          |               | |   |   |   |\n",
    "          |               | |   |   |   |\n",
    "          |       a_n b_n | |f_n|   |d_n|\n",
    "          --             -- -- --   -- --\n",
    "    \"\"\"\n",
    "    assert len(a) == len(b) == len(c) == len(d)\n",
    "    N = len(c)\n",
    "    c_ = [None for i in range(N)]\n",
    "    d_ = [None for i in range(N)]\n",
    "    f = [None for i in range(N)]\n",
    "    c_[0] = c[0]/b[0]\n",
    "    d_[0] = d[0]/b[0]\n",
    "\n",
    "    for i in range(1, N):\n",
    "        c_[i] = c[i]/(b[i] - a[i]*c_[i-1])\n",
    "        d_[i] = (d[i] - a[i]*d_[i-1])/(b[i] - a[i]*c_[i-1])\n",
    "\n",
    "    f[N-1] = d_[N-1]\n",
    "    for i in range(N-2, -1, -1):\n",
    "        f[i] = d_[i] - c_[i]*f[i+1]\n",
    "\n",
    "    return f"
   ]
  },
  {
   "cell_type": "code",
   "execution_count": 170,
   "metadata": {
    "collapsed": false,
    "deletable": true,
    "editable": true
   },
   "outputs": [],
   "source": [
    "\n",
    "def trid(p):\n",
    "    k = 10\n",
    "    y0 = fy0(n)\n",
    "    for i in range(k):\n",
    "        #print i\n",
    "        # We write a_i * Dy_(i-1) + b_i * Dy_i + c_i * Dy_(i+1) = d_i\n",
    "        A = np.array([1 for i in range(1, n-1)],\n",
    "                dtype=np.float64)\n",
    "        B = np.array([p*np.sin(y0[i])*(1-x[i])*2*dx-2\n",
    "                      for i in range(1, n-1)], dtype=np.float64)\n",
    "        C = np.array([1-p*np.sin(y0[i])*(1-x[i])*2*dx for i in range(1, n-1)], dtype=np.float16)\n",
    "\n",
    "        D = np.array([(-p*np.cos(y0[i])*(1-x[i]) - dd_y0(n,y0)[i])*dx*dx\n",
    "                      for i in range(1, n-1)], dtype=np.float64)\n",
    "\n",
    "\n",
    "        DY = np.array([0] + thomas_algorithm(A, B, C, D) + [0], dtype=np.float64)\n",
    "        y0 = y0 + DY\n",
    "        return y0\n",
    "        # print (DY*DY).mean()"
   ]
  },
  {
   "cell_type": "code",
   "execution_count": 178,
   "metadata": {
    "collapsed": false,
    "deletable": true,
    "editable": true
   },
   "outputs": [],
   "source": [
    "mass_y=[]\n",
    "mass_p=[1,4,7,25,50,100]\n",
    "dx = 0.01\n",
    "n = 100\n",
    "x = np.linspace(0, 1, n)\n",
    "for p in mass_p:\n",
    "    y0 = fy0(n)\n",
    "    y = trid(p)\n",
    "    mass_y.append(y)"
   ]
  },
  {
   "cell_type": "code",
   "execution_count": 180,
   "metadata": {
    "collapsed": false,
    "deletable": true,
    "editable": true
   },
   "outputs": [
    {
     "data": {
      "image/png": "[encoded data removed]",
      "text/plain": [
       "<matplotlib.figure.Figure at 0x101bed090>"
      ]
     },
     "metadata": {},
     "output_type": "display_data"
    }
   ],
   "source": [
    "import matplotlib.pyplot as plt\n",
    "import pandas as pd\n",
    "%matplotlib inline\n",
    "plt.figure(figsize=(25, 10))\n",
    "\n",
    "for j in range(len(mass_p)):\n",
    "    ax = plt.subplot(1, len(mass_p), j + 1)\n",
    "    plt.plot(np.linspace(0,1,len(mass_y[j])), mass_y[j])\n",
    "    from mpl_toolkits.axes_grid.anchored_artists import AnchoredText\n",
    "    at = AnchoredText(r' p ={}'.format(mass_p[j]),\n",
    "                  prop=dict(size=15), frameon=True,\n",
    "                  loc=2,\n",
    "                  )\n",
    "    at.patch.set_boxstyle(\"round,pad=0.,rounding_size=0.2\")\n",
    "    ax.add_artist(at)\n",
    "    ax.set_ylim([0,2.5])\n",
    "    plt.legend()\n",
    "plt.show()"
   ]
  }
 ],
 "metadata": {
  "kernelspec": {
   "display_name": "Python 2",
   "language": "python",
   "name": "python2"
  },
  "language_info": {
   "codemirror_mode": {
    "name": "ipython",
    "version": 2
   },
   "file_extension": ".py",
   "mimetype": "text/x-python",
   "name": "python",
   "nbconvert_exporter": "python",
   "pygments_lexer": "ipython2",
   "version": "2.7.13"
  }
 },
 "nbformat": 4,
 "nbformat_minor": 2
}
