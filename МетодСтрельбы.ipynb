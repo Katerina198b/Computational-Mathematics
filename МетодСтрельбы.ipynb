{
 "cells": [
  {
   "cell_type": "markdown",
   "metadata": {
    "deletable": true,
    "editable": true
   },
   "source": [
    "#### Замятина Екатерина\n",
    "#### 476 группа"
   ]
  },
  {
   "cell_type": "markdown",
   "metadata": {
    "deletable": true,
    "editable": true
   },
   "source": [
    "# Получите  численное  решение  следующих  нелинейных  краевых задач:"
   ]
  },
  {
   "cell_type": "markdown",
   "metadata": {
    "deletable": true,
    "editable": true
   },
   "source": [
    "$$ a)\\hspace{5mm} y^\" + p*x*\\cos(y) = 0, \\hspace{1cm} 0<x\\leq 1$$\n",
    "$$ y(0)=0; \\hspace{5mm} y'(1)=0, p=1,4,7,25,50,100 $$"
   ]
  },
  {
   "cell_type": "markdown",
   "metadata": {
    "deletable": true,
    "editable": true
   },
   "source": [
    "## Теоретическая часть"
   ]
  },
  {
   "cell_type": "markdown",
   "metadata": {
    "deletable": true,
    "editable": true
   },
   "source": [
    "### Метод стрельбы"
   ]
  },
  {
   "cell_type": "markdown",
   "metadata": {
    "deletable": true,
    "editable": true
   },
   "source": [
    "Будем сводить решение краевой задачи к задачи Коши вида:\n",
    "\n",
    "$$ y\" = f(x,y,y') \\hspace{1cm} 0<x\\leq 1$$\n",
    "$$y(0) = 0;\\hspace{15mm} y'(0)=\\alpha$$\n",
    "При этом: $ \\hspace{8,5cm} y(x,\\alpha)|_{x=1}=y(1,\\alpha)= F(\\alpha) = 0$\n"
   ]
  },
  {
   "cell_type": "markdown",
   "metadata": {
    "deletable": true,
    "editable": true
   },
   "source": [
    "Как видно из строчки выше, для этого нам надо решить уравнение $F(\\alpha)=0$.\n",
    "\n",
    "Будем решать методом Ньютона."
   ]
  },
  {
   "cell_type": "markdown",
   "metadata": {
    "deletable": true,
    "editable": true
   },
   "source": [
    "Задаем $\\alpha_0 = 0$\n",
    "\n",
    "$\\alpha_{n+1} = \\alpha_n - \\dfrac{F(\\alpha_n)}{F'(\\alpha_n)} = \\alpha_n - \\dfrac{y(1,\\alpha_n)}{y'(1,\\alpha_n)}$"
   ]
  },
  {
   "cell_type": "markdown",
   "metadata": {
    "deletable": true,
    "editable": true
   },
   "source": [
    "Для нахождения y', y будем решать Задачу Коши выписанную выше (но все равно ее продублируем):"
   ]
  },
  {
   "cell_type": "markdown",
   "metadata": {
    "deletable": true,
    "editable": true
   },
   "source": [
    "$$\\begin{equation*}\n",
    " \\begin{cases}\n",
    "   y\"(x,\\alpha) = f(x,y,y')& x\\in[0,1]\\\\\n",
    "   y(0,\\alpha) = 0 & y'(0,\\alpha) = \\alpha\n",
    " \\end{cases}\n",
    "\\end{equation*}  \\hspace{5mm}(1)\n",
    "$$"
   ]
  },
  {
   "cell_type": "markdown",
   "metadata": {
    "deletable": true,
    "editable": true
   },
   "source": [
    "Продифференцируем уравнение по $\\alpha$:"
   ]
  },
  {
   "cell_type": "markdown",
   "metadata": {
    "deletable": true,
    "editable": true
   },
   "source": [
    "$$ \\frac{\\partial y^\"(x,\\alpha)}{\\partial \\alpha} = \\dfrac{\\partial f}{\\partial x} \\dfrac{\\partial x}{\\partial \\alpha} + \\dfrac{\\partial f}{\\partial y} \\dfrac{\\partial y}{\\partial \\alpha} + \\dfrac{\\partial f}{\\partial y'}  \\dfrac{\\partial y'}{\\partial \\alpha} $$"
   ]
  },
  {
   "cell_type": "markdown",
   "metadata": {
    "deletable": true,
    "editable": true
   },
   "source": [
    "Причем $\\dfrac{\\partial x}{\\partial \\alpha} = 0$, так как x не зависит от $\\alpha$."
   ]
  },
  {
   "cell_type": "markdown",
   "metadata": {
    "deletable": true,
    "editable": true
   },
   "source": [
    "Введем новую переменную: $z(\\alpha, x) = \\dfrac{\\partial y}{\\partial \\alpha}$"
   ]
  },
  {
   "cell_type": "markdown",
   "metadata": {
    "deletable": true,
    "editable": true
   },
   "source": [
    "Тогда начальные условия перепишутся в виде:\n",
    "\n",
    "$z(0,\\alpha) = 0 \\hspace{10mm} z'(0, \\alpha) = 1$\n",
    "\n",
    "\n",
    "Уравнение в новых переменных:"
   ]
  },
  {
   "cell_type": "markdown",
   "metadata": {
    "deletable": true,
    "editable": true
   },
   "source": [
    "$$\\begin{equation*}\n",
    " \\begin{cases}\n",
    "  z^\"(x, \\alpha) = \\dfrac{\\partial f}{\\partial y} z(x,\\alpha) + \\dfrac{\\partial f}{\\partial y'}z'(x,\\alpha) & x\\in[0,1]\\\\\n",
    "   z(0,\\alpha) = 0 & z'(0,\\alpha) = 1 &\n",
    " \\end{cases}\n",
    "\\end{equation*} \\hspace{5mm} (2)\n",
    "$$"
   ]
  },
  {
   "cell_type": "markdown",
   "metadata": {
    "deletable": true,
    "editable": true
   },
   "source": [
    "Тогда для задачи Ньютона получим:\n",
    "\n",
    "\n",
    "$$\\alpha_{n+1} = \\alpha_n - \\dfrac{y(1,\\alpha_n)}{z(1,\\alpha_n)} \\hspace {1cm} \\alpha_0 = 0$$"
   ]
  },
  {
   "cell_type": "markdown",
   "metadata": {
    "deletable": true,
    "editable": true
   },
   "source": [
    "### Решение задачи Коши"
   ]
  },
  {
   "cell_type": "markdown",
   "metadata": {
    "deletable": true,
    "editable": true
   },
   "source": [
    "Перепишем задачу Коши (2) (1) для нашего уравнения:\n",
    "\n",
    "\\begin{equation}\n",
    " \\begin{cases}\n",
    "  z^\"(x, \\alpha) = px \\sin(y)*z(x,\\alpha) & x\\in[0,1]\\\\\n",
    "   z(0,\\alpha) = 0 & z'(0,\\alpha) = 1 \\\\\n",
    "   \\\\\n",
    "   y^\"(x,\\alpha) = -px \\cos(y)& x\\in[0,1]\\\\\n",
    "   y(0,\\alpha) = 0 & y'(0,\\alpha) = \\alpha\n",
    " \\end{cases}\n",
    "\\end{equation} \n"
   ]
  },
  {
   "cell_type": "markdown",
   "metadata": {
    "deletable": true,
    "editable": true
   },
   "source": [
    "Сведем получившиеся системы к системе первого порядка:\n",
    "\n",
    "\n",
    "\\begin{equation}\n",
    " \\begin{cases}\n",
    "  v'(x, \\alpha) = px \\sin(y)*z(x,\\alpha) & x\\in[0,1]\\\\\n",
    "   v(0,\\alpha) = 1 \\\\\n",
    "   \\\\\n",
    "   z'_x(x, \\alpha) = v(x, \\alpha) \\\\\n",
    "   z(0,\\alpha) = 0 \\\\\n",
    "   \\\\\n",
    "   u_x'(x,\\alpha) = -px \\cos(y)& x\\in[0,1]\\\\\n",
    "   u(0,\\alpha) = \\alpha \\\\\n",
    "   \\\\\n",
    "   y'_x(x, \\alpha)=u(x, \\alpha) \\\\\n",
    "   y(0,\\alpha) = 0 \\\\\n",
    " \\end{cases}\n",
    "\\end{equation}"
   ]
  },
  {
   "cell_type": "markdown",
   "metadata": {
    "deletable": true,
    "editable": true
   },
   "source": [
    "Каждое уравнение можно решить явным Методом Ругне Кутта второго порядка:\n",
    "\\begin{equation}\n",
    " \\begin{cases}\n",
    "  w(x)' = f(w,x)\\\\\n",
    "  w(0) = w_0\\\\\n",
    " \\end{cases}\n",
    "\\end{equation}\n",
    "\n",
    "\n",
    "$$w_{n+1} = w_n +h(b_1r_1 + b_2r_2) = w_n + hr_2$$\n",
    "\n",
    "\n",
    "$$r1=f(w_n,x_n)$$\n",
    "\n",
    "$$r2=f(w_n + \\frac{h}{2},w_n+ \\frac{h}{2}r_1)$$\n",
    "\n",
    "$$w = (v,z,u,y)^T \\hspace{1cm} w_0 =(1,0,\\alpha, 0)^T$$"
   ]
  },
  {
   "cell_type": "markdown",
   "metadata": {
    "deletable": true,
    "editable": true
   },
   "source": [
    "## Практическая часть"
   ]
  },
  {
   "cell_type": "markdown",
   "metadata": {
    "deletable": true,
    "editable": true
   },
   "source": [
    "### Решение Задачи Коши"
   ]
  },
  {
   "cell_type": "code",
   "execution_count": 2,
   "metadata": {
    "collapsed": true,
    "deletable": true,
    "editable": true
   },
   "outputs": [],
   "source": [
    "import numpy as np"
   ]
  },
  {
   "cell_type": "code",
   "execution_count": 3,
   "metadata": {
    "collapsed": true,
    "deletable": true,
    "editable": true
   },
   "outputs": [],
   "source": [
    "p = 1"
   ]
  },
  {
   "cell_type": "code",
   "execution_count": 4,
   "metadata": {
    "collapsed": false,
    "deletable": true,
    "editable": true
   },
   "outputs": [],
   "source": [
    "\n",
    "def f(x,w):\n",
    "    v = w[0]\n",
    "    z = w[1]\n",
    "    u = w[2]\n",
    "    y = w[3]\n",
    "    f = np.ndarray(4)\n",
    "    \n",
    "    f[0] = p*x*np.sin(y)*z\n",
    "    f[1] = v\n",
    "    f[2] = -p*x*np.cos(y)\n",
    "    f[3] = u\n",
    "    return f"
   ]
  },
  {
   "cell_type": "code",
   "execution_count": 84,
   "metadata": {
    "collapsed": false,
    "deletable": true,
    "editable": true
   },
   "outputs": [],
   "source": [
    "def Runge_Kutta_method(w0,n, marker_end_of_Newton_method = \"no\"):\n",
    "    x0 = 0\n",
    "    h = 1./n\n",
    "    y = []\n",
    "    for i in range(n):\n",
    "        r1=f(x0,w0)\n",
    "        w = w0 + h*f(x0 + 0.5*h, w0 + 0.5*h*r1)\n",
    "        w0 = w\n",
    "        x0 = x0 + h \n",
    "        if (marker_end_of_Newton_method == \"end\"):\n",
    "            y.append(w0[3])\n",
    "    return w[1], w[3], y"
   ]
  },
  {
   "cell_type": "markdown",
   "metadata": {
    "deletable": true,
    "editable": true
   },
   "source": [
    "### Решение метода Ньютона"
   ]
  },
  {
   "cell_type": "markdown",
   "metadata": {
    "deletable": true,
    "editable": true
   },
   "source": [
    "$$\\alpha_{n+1} = \\alpha_n - \\dfrac{y(1,\\alpha_n)}{z(1,\\alpha_n)} \\hspace {1cm} \\alpha_0 = 0$$\n",
    "где y z находим из Newton_method"
   ]
  },
  {
   "cell_type": "code",
   "execution_count": 82,
   "metadata": {
    "collapsed": false,
    "deletable": true,
    "editable": true
   },
   "outputs": [],
   "source": [
    "def Newton_method(eps):\n",
    "    a0 = 0\n",
    "    n = 10000\n",
    "    a = 1000\n",
    "    y = 1\n",
    "    z =1\n",
    "    while ((y/z)*(y/z) > eps*eps):\n",
    "        w0 = np.array([1,0,a0,0])\n",
    "        z,y, mass_y = Runge_Kutta_method(w0,n)\n",
    "        a = a0 - y/z\n",
    "        a0 = a\n",
    "    z,y, mass_y = Runge_Kutta_method(w0,n, \"end\")\n",
    "    return y, mass_y, a"
   ]
  },
  {
   "cell_type": "code",
   "execution_count": 87,
   "metadata": {
    "collapsed": false
   },
   "outputs": [],
   "source": [
    "y,mass_y, a = Newton_method(0.0001)"
   ]
  },
  {
   "cell_type": "code",
   "execution_count": 88,
   "metadata": {
    "collapsed": true
   },
   "outputs": [],
   "source": [
    "import matplotlib.pyplot as plt\n",
    "%matplotlib inline"
   ]
  },
  {
   "cell_type": "markdown",
   "metadata": {},
   "source": [
    "# График y(x) - решение уравнения"
   ]
  },
  {
   "cell_type": "code",
   "execution_count": 91,
   "metadata": {
    "collapsed": false
   },
   "outputs": [
    {
     "data": {
      "text/plain": [
       "[<matplotlib.lines.Line2D at 0x7fef10db3090>]"
      ]
     },
     "execution_count": 91,
     "metadata": {},
     "output_type": "execute_result"
    },
    {
     "data": {
      "image/png": "[encoded data removed]",
      "text/plain": [
       "<matplotlib.figure.Figure at 0x7fef1289f710>"
      ]
     },
     "metadata": {},
     "output_type": "display_data"
    }
   ],
   "source": [
    " plt.plot(np.linspace(0,1,len(mass_y)), mass_y)"
   ]
  },
  {
   "cell_type": "markdown",
   "metadata": {},
   "source": [
    "### Найденные параметры альфа и y[1]"
   ]
  },
  {
   "cell_type": "code",
   "execution_count": 94,
   "metadata": {
    "collapsed": false
   },
   "outputs": [
    {
     "data": {
      "text/plain": [
       "'y[1] = 1.20762935931e-08, alpha = 0.166441427199'"
      ]
     },
     "execution_count": 94,
     "metadata": {},
     "output_type": "execute_result"
    }
   ],
   "source": [
    "('y[1] = {}, alpha = {}').format(y , a)"
   ]
  },
  {
   "cell_type": "code",
   "execution_count": null,
   "metadata": {
    "collapsed": true
   },
   "outputs": [],
   "source": []
  }
 ],
 "metadata": {
  "kernelspec": {
   "display_name": "Python 2",
   "language": "python",
   "name": "python2"
  },
  "language_info": {
   "codemirror_mode": {
    "name": "ipython",
    "version": 2
   },
   "file_extension": ".py",
   "mimetype": "text/x-python",
   "name": "python",
   "nbconvert_exporter": "python",
   "pygments_lexer": "ipython2",
   "version": "2.7.13"
  }
 },
 "nbformat": 4,
 "nbformat_minor": 2
}
